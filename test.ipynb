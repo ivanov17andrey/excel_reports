{
 "cells": [
  {
   "cell_type": "code",
   "execution_count": 12,
   "metadata": {
    "collapsed": true,
    "pycharm": {
     "name": "#%%\n"
    }
   },
   "outputs": [],
   "source": [
    "import os\n",
    "import pandas as pd\n",
    "import xlsxwriter\n",
    "import re\n",
    "import datetime"
   ]
  },
  {
   "cell_type": "code",
   "execution_count": 50,
   "outputs": [
    {
     "data": {
      "text/plain": "['остатки на 01.01.22.xlsx', 'остатки на 16.01.22.xlsx']"
     },
     "execution_count": 50,
     "metadata": {},
     "output_type": "execute_result"
    }
   ],
   "source": [
    "cwd = os.getcwd()\n",
    "os.chdir(\"reports/\")\n",
    "os.listdir('.')"
   ],
   "metadata": {
    "collapsed": false,
    "pycharm": {
     "name": "#%%\n"
    }
   }
  },
  {
   "cell_type": "code",
   "execution_count": 45,
   "outputs": [],
   "source": [
    "file_1 = 'остатки на 01.01.22.xlsx'\n",
    "file_2 = 'остатки на 16.01.22.xlsx'\n",
    "file_info = 'ISBN.xlsx'"
   ],
   "metadata": {
    "collapsed": false,
    "pycharm": {
     "name": "#%%\n"
    }
   }
  },
  {
   "cell_type": "code",
   "execution_count": 46,
   "outputs": [],
   "source": [
    "date_regex = re.compile(r'(\\d\\d).(\\d\\d).(\\d\\d)')\n",
    "date_1 = datetime.datetime.strptime(date_regex.search(file_1).group(), '%d.%m.%y').date().strftime('%d.%m.%Y')\n",
    "date_2 = datetime.datetime.strptime(date_regex.search(file_2).group(), '%d.%m.%y').date().strftime('%d.%m.%Y')"
   ],
   "metadata": {
    "collapsed": false,
    "pycharm": {
     "name": "#%%\n"
    }
   }
  },
  {
   "cell_type": "code",
   "execution_count": 47,
   "outputs": [],
   "source": [
    "xl_1 = pd.ExcelFile(file_1)\n",
    "xl_2 = pd.ExcelFile(file_2)\n",
    "xl_info = pd.ExcelFile(file_info)"
   ],
   "metadata": {
    "collapsed": false,
    "pycharm": {
     "name": "#%%\n"
    }
   }
  },
  {
   "cell_type": "code",
   "execution_count": 48,
   "outputs": [],
   "source": [
    "df_1 = xl_1.parse(header=None, names=['name', 'count_1'], skiprows=6, skipfooter=1, usecols=[0, 4],\n",
    "                  converters={0: str, 1: int})\n",
    "df_2 = xl_2.parse(header=None, names=['name', 'count_2'], skiprows=6, skipfooter=1, usecols=[0, 4],\n",
    "                  converters={0: str, 1: int})\n",
    "df_info = xl_info.parse(header=None, names=['name', 'published', 'ISBN'], skiprows=1)"
   ],
   "metadata": {
    "collapsed": false,
    "pycharm": {
     "name": "#%%\n"
    }
   }
  },
  {
   "cell_type": "code",
   "execution_count": 49,
   "outputs": [],
   "source": [
    "df_info.fillna({'ISBN': ''}, inplace=True)\n",
    "df_res = df_1.merge(df_2, on='name', how='outer')\n",
    "df_res.fillna(0, inplace=True)\n",
    "df_res = df_res.merge(df_info, on='name', how='left')\n",
    "df_res = df_res.reindex(columns=['name', 'published', 'ISBN', 'count_1', 'count_2'])"
   ],
   "metadata": {
    "collapsed": false,
    "pycharm": {
     "name": "#%%\n"
    }
   }
  },
  {
   "cell_type": "code",
   "execution_count": 31,
   "outputs": [],
   "source": [
    "def to_letter_number(row, col):\n",
    "    return f'{xlsxwriter.utility.xl_col_to_name(col)}{row + 1}'"
   ],
   "metadata": {
    "collapsed": false,
    "pycharm": {
     "name": "#%%\n"
    }
   }
  },
  {
   "cell_type": "code",
   "execution_count": 41,
   "outputs": [],
   "source": [
    "with xlsxwriter.Workbook('test.xlsx') as workbook:\n",
    "    worksheet = workbook.add_worksheet()\n",
    "\n",
    "    workbook.formats[0].set_font_name('Arial')\n",
    "    workbook.formats[0].set_font_size(8)\n",
    "    h1_format = workbook.add_format(\n",
    "        {'bold': True, 'font_name': 'Arial', 'font_color': 'green', 'font_size': 18, 'valign': 'vcenter'})\n",
    "    h2_format = workbook.add_format({'bold': True, 'font_name': 'Arial', 'font_size': 10})\n",
    "    name_format = workbook.add_format({'font_name': 'Arial', 'font_size': 8, 'indent': 2})\n",
    "    number_format = workbook.add_format({'num_format': '###,###,###,##0'})\n",
    "    h2_number_format = workbook.add_format(\n",
    "        {'bold': True, 'font_name': 'Arial', 'font_size': 10, 'num_format': '###,###,###,##0'})\n",
    "    text_format = workbook.add_format({'num_format': '@'})\n",
    "    was_nan_format = workbook.add_format({'font_name': 'Arial', 'font_size': 10, 'bg_color': '#addff7'})\n",
    "    negative_format = workbook.add_format({'font_name': 'Arial', 'font_size': 10, 'bg_color': '#d8adf7'})\n",
    "    diff_more_than_format = workbook.add_format({'font_name': 'Arial', 'font_size': 10, 'bg_color': '#adf7b0'})\n",
    "    diff_less_than_format = workbook.add_format({'font_name': 'Arial', 'font_size': 10, 'bg_color': '#f7adad'})\n",
    "\n",
    "    worksheet.set_column(0, 0, 60)\n",
    "    worksheet.set_column(1, 1, 20)\n",
    "    worksheet.set_column(2, 2, 25)\n",
    "    worksheet.set_column(3, 6, 15)\n",
    "    worksheet.set_row(1, 30)\n",
    "\n",
    "    worksheet.write(1, 0, 'Остатки на складах', h1_format)\n",
    "\n",
    "    # worksheet.write(3, 0, 'Название', h2_format)\n",
    "    # worksheet.write(3, 1, 'Издательство', h2_format)\n",
    "    # worksheet.write(3, 2, 'ISBN', h2_format)\n",
    "    # worksheet.write(3, 3, date_1, h2_format)\n",
    "    # worksheet.write(3, 4, date_2, h2_format)\n",
    "    # worksheet.write(3, 5, 'Разница', h2_format)\n",
    "\n",
    "    from_row = row_num = 4\n",
    "    from_col = 0\n",
    "    # for row_index, row in df_res.iterrows():\n",
    "    #     worksheet.write(row_num, from_col, row['name'], name_format)\n",
    "    #     worksheet.write(row_num, from_col + 1, row['published'], text_format)\n",
    "    #     worksheet.write(row_num, from_col + 2, row['ISBN'], text_format)\n",
    "    #     worksheet.write(row_num, from_col + 3, row['count_1'], number_format)\n",
    "    #     worksheet.write(row_num, from_col + 4, row['count_2'], number_format)\n",
    "    #     worksheet.write_formula(to_letter_number(row_num, from_col + 5),\n",
    "    #                             f'={to_letter_number(row_num, from_col + 3)} - {to_letter_number(row_num, from_col + 4)}',\n",
    "    #                             number_format)\n",
    "    #\n",
    "    #     row_num += 1\n",
    "    #\n",
    "    # worksheet.write(from_row + len(df_res), 0, 'Итого', h2_format)\n",
    "    # worksheet.write_formula(f'D{from_row + len(df_res) + 1}',\n",
    "    #                         f'=SUM(D{from_row + 1}:D{from_row + len(df_res)})',\n",
    "    #                         h2_number_format)\n",
    "    # worksheet.write_formula(f'E{from_row + len(df_res) + 1}',\n",
    "    #                         f'=SUM(E{from_row + 1}:E{from_row + len(df_res)})',\n",
    "    #                         h2_number_format)\n",
    "    # worksheet.write_formula(f'F{from_row + len(df_res) + 1}',\n",
    "    #                         f'=SUM(F{from_row + 1}:F{from_row + len(df_res)})',\n",
    "    #                         h2_number_format)\n",
    "\n",
    "    worksheet.conditional_format(f'E5:E{from_row + len(df_res)}', {'type': 'cell',\n",
    "                                                                   'criteria': '==',\n",
    "                                                                   'value': 0,\n",
    "                                                                   'format': was_nan_format})\n",
    "\n",
    "    worksheet.conditional_format(f'D5:E{from_row + len(df_res)}', {'type': 'cell',\n",
    "                                                                   'criteria': '<',\n",
    "                                                                   'value': 0,\n",
    "                                                                   'format': negative_format})\n",
    "\n",
    "    worksheet.conditional_format(f'F5:F{from_row + len(df_res)}', {'type': 'cell',\n",
    "                                                                   'criteria': '>=',\n",
    "                                                                   'value': 10,\n",
    "                                                                   'format': diff_more_than_format})\n",
    "    worksheet.conditional_format(f'F5:F{from_row + len(df_res)}', {'type': 'cell',\n",
    "                                                                   'criteria': '<',\n",
    "                                                                   'value': 3,\n",
    "                                                                   'format': diff_less_than_format})\n",
    "\n",
    "    diff_formula = '=Rest['\n",
    "\n",
    "    table_options = {\n",
    "        'data': df_res.to_numpy,\n",
    "        'name': 'Rest',\n",
    "        'columns': [\n",
    "            {'header': 'Название'},\n",
    "            {'header': 'Издательство'},\n",
    "            {'header': 'ISBN'},\n",
    "            {'header': date_1},\n",
    "            {'header': date_2},\n",
    "            {'header': 'Разница',\n",
    "             'formula': },\n",
    "        ],\n",
    "        'banded_rows': False,\n",
    "        'style': 'Table Style Light 11'\n",
    "    }\n",
    "\n",
    "    worksheet.add_table(f'{to_letter_number(from_row - 1, from_col)}:{to_letter_number(from_row + len(df_res), 5)}',\n",
    "                        table_options)"
   ],
   "metadata": {
    "collapsed": false,
    "pycharm": {
     "name": "#%%\n"
    }
   }
  },
  {
   "cell_type": "code",
   "execution_count": 22,
   "outputs": [],
   "source": [
    "xl_1 = pd.ExcelFile('test.xlsx')\n",
    "xl_2 = pd.ExcelFile('Остатки 2-16 января.xlsx')\n",
    "\n",
    "df_1 = xl_1.parse(header=None, names=['name', 'count_1', 'count_2', 'diff'], skiprows=4, skipfooter=1,\n",
    "                  usecols=[0, 3, 4, 5],\n",
    "                  converters={0: str, 1: int, 2: int, 3: int})\n",
    "df_2 = xl_2.parse(header=None, names=['name', 'count_1', 'count_2', 'diff'], skiprows=6, skipfooter=1,\n",
    "                  usecols=[0, 4, 5, 6],\n",
    "                  converters={0: str, 1: int, 2: int, 3: int})"
   ],
   "metadata": {
    "collapsed": false,
    "pycharm": {
     "name": "#%%\n"
    }
   }
  },
  {
   "cell_type": "code",
   "execution_count": 23,
   "outputs": [
    {
     "data": {
      "text/plain": "                         name                          count_1        count_2  \\\n                         self                    other    self  other    self   \n145  подарочные сертификаты,   подарочные сертификаты,    -6.0  150.0   -11.0   \n146                       NaN                      NaN    -3.0   50.0    -4.0   \n147                       NaN                      NaN    -3.0   50.0    -7.0   \n\n           diff        \n     other self other  \n145  139.0  5.0  11.0  \n146   46.0  1.0   4.0  \n147   43.0  4.0   7.0  ",
      "text/html": "<div>\n<style scoped>\n    .dataframe tbody tr th:only-of-type {\n        vertical-align: middle;\n    }\n\n    .dataframe tbody tr th {\n        vertical-align: top;\n    }\n\n    .dataframe thead tr th {\n        text-align: left;\n    }\n</style>\n<table border=\"1\" class=\"dataframe\">\n  <thead>\n    <tr>\n      <th></th>\n      <th colspan=\"2\" halign=\"left\">name</th>\n      <th colspan=\"2\" halign=\"left\">count_1</th>\n      <th colspan=\"2\" halign=\"left\">count_2</th>\n      <th colspan=\"2\" halign=\"left\">diff</th>\n    </tr>\n    <tr>\n      <th></th>\n      <th>self</th>\n      <th>other</th>\n      <th>self</th>\n      <th>other</th>\n      <th>self</th>\n      <th>other</th>\n      <th>self</th>\n      <th>other</th>\n    </tr>\n  </thead>\n  <tbody>\n    <tr>\n      <th>145</th>\n      <td>подарочные сертификаты,</td>\n      <td>подарочные сертификаты,</td>\n      <td>-6.0</td>\n      <td>150.0</td>\n      <td>-11.0</td>\n      <td>139.0</td>\n      <td>5.0</td>\n      <td>11.0</td>\n    </tr>\n    <tr>\n      <th>146</th>\n      <td>NaN</td>\n      <td>NaN</td>\n      <td>-3.0</td>\n      <td>50.0</td>\n      <td>-4.0</td>\n      <td>46.0</td>\n      <td>1.0</td>\n      <td>4.0</td>\n    </tr>\n    <tr>\n      <th>147</th>\n      <td>NaN</td>\n      <td>NaN</td>\n      <td>-3.0</td>\n      <td>50.0</td>\n      <td>-7.0</td>\n      <td>43.0</td>\n      <td>4.0</td>\n      <td>7.0</td>\n    </tr>\n  </tbody>\n</table>\n</div>"
     },
     "execution_count": 23,
     "metadata": {},
     "output_type": "execute_result"
    }
   ],
   "source": [
    "df_1.compare(df_2)"
   ],
   "metadata": {
    "collapsed": false,
    "pycharm": {
     "name": "#%%\n"
    }
   }
  },
  {
   "cell_type": "code",
   "execution_count": 33,
   "outputs": [
    {
     "data": {
      "text/plain": "'D4'"
     },
     "execution_count": 33,
     "metadata": {},
     "output_type": "execute_result"
    }
   ],
   "source": [],
   "metadata": {
    "collapsed": false,
    "pycharm": {
     "name": "#%%\n"
    }
   }
  }
 ],
 "metadata": {
  "kernelspec": {
   "display_name": "Python 3",
   "language": "python",
   "name": "python3"
  },
  "language_info": {
   "codemirror_mode": {
    "name": "ipython",
    "version": 2
   },
   "file_extension": ".py",
   "mimetype": "text/x-python",
   "name": "python",
   "nbconvert_exporter": "python",
   "pygments_lexer": "ipython2",
   "version": "2.7.6"
  }
 },
 "nbformat": 4,
 "nbformat_minor": 0
}