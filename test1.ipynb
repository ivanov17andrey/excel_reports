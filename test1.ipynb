{
 "cells": [
  {
   "cell_type": "code",
   "execution_count": 159,
   "metadata": {
    "collapsed": true,
    "pycharm": {
     "name": "#%%\n"
    }
   },
   "outputs": [],
   "source": [
    "import os\n",
    "import pandas as pd\n",
    "import xlsxwriter\n",
    "import re\n",
    "import datetime"
   ]
  },
  {
   "cell_type": "code",
   "execution_count": 160,
   "outputs": [],
   "source": [
    "def parse_file_name(file_name):\n",
    "    spl = file_name.split('.')[0].split('_')\n",
    "\n",
    "    return {\n",
    "        'file_name': file_name,\n",
    "        'type': spl[0],\n",
    "        'number': int(spl[1])\n",
    "    }\n",
    "\n",
    "\n",
    "cwd = os.getcwd()\n",
    "# os.chdir(\"reports/\")\n",
    "# os.chdir(\"..\")\n",
    "files = list(map(parse_file_name, [x for x in os.listdir('reports/') if x.endswith('.xlsx')]))\n",
    "sales_files = sorted(list(filter(lambda x: x['type'] == 'продажи', files)), key=lambda x: x['number'])\n",
    "remains_files = list(filter(lambda x: x['type'] == 'остатки', files))\n",
    "file_info = 'ISBN.xlsx'\n",
    "\n",
    "sales_length = len(sales_files)"
   ],
   "metadata": {
    "collapsed": false,
    "pycharm": {
     "name": "#%%\n"
    }
   }
  },
  {
   "cell_type": "code",
   "execution_count": 161,
   "outputs": [],
   "source": [
    "xl_sales = []\n",
    "for s_f in sales_files:\n",
    "    xl_sales.append(pd.ExcelFile(f\"reports/{s_f['file_name']}\"))\n",
    "\n",
    "remains_file = [x for x in remains_files if x['number'] == len(xl_sales)][0]['file_name']\n",
    "xl_remains = pd.ExcelFile(f\"reports/{remains_file}\")\n",
    "xl_info = pd.ExcelFile(file_info)"
   ],
   "metadata": {
    "collapsed": false,
    "pycharm": {
     "name": "#%%\n"
    }
   }
  },
  {
   "cell_type": "code",
   "execution_count": 162,
   "outputs": [],
   "source": [
    "def normalize_name(name):\n",
    "    index = name.find(', шт')\n",
    "    n = name[:index] if index != -1 else name\n",
    "    return n.strip()\n",
    "\n",
    "\n",
    "dfs_sales = []\n",
    "\n",
    "for s_index, xl_s in enumerate(xl_sales):\n",
    "    s_index += 1\n",
    "    df = xl_s.parse(header=None,\n",
    "                    names=['name', f\"sales_count_{s_index}\", f\"sales_amount_{s_index}\",\n",
    "                           f\"sales_discount_amount_{s_index}\", f\"avg_price_{s_index}\", f\"avg_discount_price_{s_index}\"],\n",
    "                    skiprows=15, skipfooter=1, usecols=[0, 3, 4, 5, 6, 7],\n",
    "                    converters={0: str, 1: int, 2: float, 3: float, 4: float, 5: float})\n",
    "    df.name = df.name.apply(normalize_name)\n",
    "    dfs_sales.append(df)\n",
    "\n",
    "df_remains = xl_remains.parse(header=None, names=['name', 'remains_count'], skiprows=6, skipfooter=1, usecols=[0, 4],\n",
    "                              converters={0: str, 1: int})\n",
    "df_remains.name = df_remains.name.apply(normalize_name)\n",
    "df_info = xl_info.parse(header=None, names=['name', 'published', 'ISBN'], skiprows=1)\n",
    "df_info.name = df_info.name.apply(normalize_name)"
   ],
   "metadata": {
    "collapsed": false,
    "pycharm": {
     "name": "#%%\n"
    }
   }
  },
  {
   "cell_type": "code",
   "execution_count": 163,
   "outputs": [],
   "source": [
    "def merge_sales_dfs(dfs_ss):\n",
    "    l = len(dfs_ss)\n",
    "\n",
    "    df_sales = dfs_ss[0]\n",
    "    if l > 1:\n",
    "        for i in range(1, len(dfs_ss)):\n",
    "            df_sales = df_sales.merge(dfs_ss[i], on='name', how='outer')\n",
    "\n",
    "    return df_sales.fillna(0)\n",
    "\n",
    "\n",
    "df_sales = merge_sales_dfs(dfs_sales)\n",
    "df_sales = df_sales.merge(df_remains, on='name', how='outer')\n",
    "df_sales.fillna(0, inplace=True)\n",
    "df_info.fillna('', inplace=True)\n",
    "df_sales = df_sales.merge(df_info, on='name', how='left')\n",
    "df_sales = df_sales.reindex(\n",
    "    columns=['comments', 'name', 'published', 'ISBN']\n",
    "            + [f\"sales_count_{x + 1}\" for x in range(sales_length)]\n",
    "            + ['average_sales_count', 'remains_count']\n",
    ")\n",
    "df_sales.fillna('', inplace=True)"
   ],
   "metadata": {
    "collapsed": false,
    "pycharm": {
     "name": "#%%\n"
    }
   }
  },
  {
   "cell_type": "code",
   "execution_count": 164,
   "outputs": [],
   "source": [
    "\n",
    "def to_letter_number(row, col):\n",
    "    return f'{xlsxwriter.utility.xl_col_to_name(col)}{row + 1}'"
   ],
   "metadata": {
    "collapsed": false,
    "pycharm": {
     "name": "#%%\n"
    }
   }
  },
  {
   "cell_type": "code",
   "execution_count": 180,
   "outputs": [],
   "source": [
    "font_name = {'font_name': 'Arial'}\n",
    "bold = {'bold': True}\n",
    "font_s = font_name | {'font_size': 12}\n",
    "font_m = font_name | {'font_size': 14}\n",
    "font_l = font_name | {'font_size': 16}\n",
    "v_align = {'valign': 'vcenter'}\n",
    "align_center = {'align': 'center'}\n",
    "align_left = {'align': 'left'}\n",
    "align_right = {'align': 'right'}\n",
    "indent_1 = {'indent': 1}\n",
    "text_wrap = {'text_wrap': True}\n",
    "number = {'num_format': '###,###,###,##0'}\n",
    "border_top = {'top': 1}\n",
    "border_bottom = {'bottom': 1}\n",
    "border_left = {'left': 1}\n",
    "border_right = {'right': 1}"
   ],
   "metadata": {
    "collapsed": false,
    "pycharm": {
     "name": "#%%\n"
    }
   }
  },
  {
   "cell_type": "code",
   "execution_count": 186,
   "outputs": [],
   "source": [
    "with xlsxwriter.Workbook(f'Отчет {sales_length} недели.xlsx') as workbook:\n",
    "    worksheet = workbook.add_worksheet()\n",
    "\n",
    "    logo_header_format = workbook.add_format(\n",
    "        font_l | bold | align_left  | {'num_format': '@'})\n",
    "    caption_format = workbook.add_format(\n",
    "        font_m | align_left | {'num_format': '@'})\n",
    "    header_first_cell_format = workbook.add_format(v_align | text_wrap | indent_1 | border_top | border_bottom | border_left)\n",
    "    header_mid_cell_format = workbook.add_format(border_top | border_bottom)\n",
    "    header_last_cell_format = workbook.add_format(border_top | border_bottom | border_right)\n",
    "    table_header_format = workbook.add_format(font_m | v_align | align_center | text_wrap | {'num_format': '@'})\n",
    "    text_format = workbook.add_format(font_s | v_align | align_left | indent_1 | {'num_format': '@'})\n",
    "    number_format = workbook.add_format(font_s | v_align | align_center | number)\n",
    "    avg_sales_format = workbook.add_format(font_s | bold | v_align | align_center | number | {'bg_color': 'yellow'})\n",
    "    remains_format = workbook.add_format(font_s | bold | v_align | align_center | number | {'bg_color': '#91bbd9'})\n",
    "    remains_weeks_format = workbook.add_format(\n",
    "        font_s | bold | v_align | align_center | number | {'bg_color': '#b5d991'})\n",
    "    # was_nan_format = workbook.add_format({'font_name': 'Arial', 'font_size': 10, 'bg_color': '#addff7'})\n",
    "    # negative_format = workbook.add_format({'font_name': 'Arial', 'font_size': 10, 'bg_color': '#d8adf7'})\n",
    "    # diff_more_than_format = workbook.add_format({'font_name': 'Arial', 'font_size': 10, 'bg_color': '#adf7b0'})\n",
    "    # diff_less_than_format = workbook.add_format({'font_name': 'Arial', 'font_size': 10, 'bg_color': '#f7adad'})\n",
    "\n",
    "    t_from_row = 3\n",
    "    t_from_col = 0\n",
    "\n",
    "\n",
    "    sales_columns = []\n",
    "\n",
    "    for x in range(sales_length):\n",
    "        sales_columns.append(\n",
    "            {'header': f'Продажи\\n{x + 1} нед',\n",
    "             'format': number_format,\n",
    "             'total_function': 'sum'}\n",
    "        )\n",
    "\n",
    "    table_options = {\n",
    "        'data': df_sales.sort_values(by=['name']).to_numpy(),\n",
    "        'name': 'Rest',\n",
    "        'total_row': True,\n",
    "        'columns': [\n",
    "            {'header': 'Комментарии',\n",
    "             'format': text_format},\n",
    "            {'header': 'Название',\n",
    "             'format': text_format,\n",
    "             'total_string': 'Тотал'},\n",
    "            {'header': 'Издательство',\n",
    "             'format': text_format},\n",
    "            {'header': 'ISBN',\n",
    "             'format': text_format},\n",
    "            *sales_columns,\n",
    "            {'header': 'Cредние\\nпродажи',\n",
    "             'format': avg_sales_format,\n",
    "             'total_function': 'sum'},\n",
    "            {'header': 'Количество\\nна складе',\n",
    "             'format': remains_format,\n",
    "             'total_function': 'sum'},\n",
    "            {'header': 'Остаток\\n(нед.)',\n",
    "             'format': remains_weeks_format,\n",
    "             'total_function': 'std_dev'}\n",
    "        ],\n",
    "        'banded_rows': False,\n",
    "        'style': 'Table Style Light 15'\n",
    "    }\n",
    "\n",
    "    columns_count = len(table_options['columns'])\n",
    "\n",
    "    avg_sales_count_col = [i for i, x in enumerate(table_options['columns']) if x['header'] == 'Cредние\\nпродажи'][\n",
    "        0]\n",
    "\n",
    "    worksheet.add_table(\n",
    "        f'{to_letter_number(3, 0)}:{to_letter_number(len(df_sales.values) + 3, len(table_options[\"columns\"]) - 1)}',\n",
    "        table_options)\n",
    "\n",
    "    # avg sales\n",
    "    for x in range(3 + 1, len(df_sales.values) + 3):\n",
    "        worksheet.write_formula(to_letter_number(x, avg_sales_count_col),\n",
    "                                f\"=ROUND(AVERAGE({to_letter_number(x, 4)}:{to_letter_number(x, 4 + sales_length - 1)}), 0)\",\n",
    "                                avg_sales_format)\n",
    "    # remains weeks\n",
    "    for x in range(3 + 1, len(df_sales.values) + 3):\n",
    "        worksheet.write_formula(to_letter_number(x, avg_sales_count_col + 2),\n",
    "                                f\"=IFERROR(ROUND({to_letter_number(x, avg_sales_count_col + 1)}/{to_letter_number(x, avg_sales_count_col)}, 0), {to_letter_number(x, avg_sales_count_col + 1)})\",\n",
    "                                remains_weeks_format)\n",
    "\n",
    "\n",
    "    for x in range(3, len(df_sales.values) + 3 + 1):\n",
    "        worksheet.set_row(x, 30)\n",
    "\n",
    "    # Header row\n",
    "    worksheet.insert_image(to_letter_number(1, 0), 'logo.png')\n",
    "    worksheet.write_rich_string(1, 1, logo_header_format, 'ООО «Поляндрия NoAge»\\n', caption_format, 'www.polyandria.ru', header_first_cell_format)\n",
    "    for x in range(2, columns_count - 2):\n",
    "        worksheet.write(1, x, '', header_mid_cell_format)\n",
    "    worksheet.write(1, columns_count - 2, '', header_last_cell_format)\n",
    "\n",
    "    worksheet.set_row(1, 49.5)\n",
    "    worksheet.set_row(3, 40, table_header_format)\n",
    "\n",
    "    worksheet.set_column(0, 0, 30)\n",
    "    worksheet.set_column(1, 1, 60)\n",
    "    worksheet.set_column(2, 3, 20)\n",
    "    worksheet.set_column(4, len(table_options['columns']) - 1, 15)\n",
    "\n",
    "\n",
    "    # worksheet.conditional_format(f'E5:E{from_row + len(df_res)}', {'type': 'cell',\n",
    "    #                                                                'criteria': '==',\n",
    "    #                                                                'value': 0,\n",
    "    #                                                                'format': was_nan_format})\n",
    "    #\n",
    "    # worksheet.conditional_format(f'D5:E{from_row + len(df_res)}', {'type': 'cell',\n",
    "    #                                                                'criteria': '<',\n",
    "    #                                                                'value': 0,\n",
    "    #                                                                'format': negative_format})\n",
    "    #\n",
    "    # worksheet.conditional_format(f'F5:F{from_row + len(df_res)}', {'type': 'cell',\n",
    "    #                                                                'criteria': '>=',\n",
    "    #                                                                'value': 10,\n",
    "    #                                                                'format': diff_more_than_format})\n",
    "    # worksheet.conditional_format(f'F5:F{from_row + len(df_res)}', {'type': 'cell',\n",
    "    #                                                                'criteria': '<',\n",
    "    #                                                                'value': 3,\n",
    "    #                                                                'format': diff_less_than_format})"
   ],
   "metadata": {
    "collapsed": false,
    "pycharm": {
     "name": "#%%\n"
    }
   }
  }
 ],
 "metadata": {
  "kernelspec": {
   "display_name": "Python 3",
   "language": "python",
   "name": "python3"
  },
  "language_info": {
   "codemirror_mode": {
    "name": "ipython",
    "version": 2
   },
   "file_extension": ".py",
   "mimetype": "text/x-python",
   "name": "python",
   "nbconvert_exporter": "python",
   "pygments_lexer": "ipython2",
   "version": "2.7.6"
  }
 },
 "nbformat": 4,
 "nbformat_minor": 0
}